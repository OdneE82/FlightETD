{
 "cells": [
  {
   "cell_type": "code",
   "execution_count": 18,
   "metadata": {},
   "outputs": [],
   "source": [
    "import pandas as pd, numpy as np\n",
    "from sklearn.model_selection import train_test_split\n",
    "from datetime import datetime\n",
    "from sklearn.preprocessing import LabelEncoder\n",
    "from sklearn.model_selection import train_test_split\n",
    "from sklearn.ensemble import RandomForestRegressor\n",
    "from sklearn.metrics import mean_absolute_error\n",
    "from sklearn.metrics import mean_squared_error, r2_score"
   ]
  },
  {
   "cell_type": "code",
   "execution_count": 19,
   "metadata": {},
   "outputs": [],
   "source": [
    "df = pd.read_csv('CLN_FLR_BGO_21_24.csv', delimiter=';')"
   ]
  },
  {
   "cell_type": "code",
   "execution_count": 20,
   "metadata": {},
   "outputs": [
    {
     "data": {
      "text/html": [
       "<div>\n",
       "<style scoped>\n",
       "    .dataframe tbody tr th:only-of-type {\n",
       "        vertical-align: middle;\n",
       "    }\n",
       "\n",
       "    .dataframe tbody tr th {\n",
       "        vertical-align: top;\n",
       "    }\n",
       "\n",
       "    .dataframe thead th {\n",
       "        text-align: right;\n",
       "    }\n",
       "</style>\n",
       "<table border=\"1\" class=\"dataframe\">\n",
       "  <thead>\n",
       "    <tr style=\"text-align: right;\">\n",
       "      <th></th>\n",
       "      <th>Date</th>\n",
       "      <th>Arr</th>\n",
       "      <th>Dep</th>\n",
       "      <th>Flight In</th>\n",
       "      <th>Flight Out</th>\n",
       "      <th>Origin</th>\n",
       "      <th>Destination</th>\n",
       "      <th>STA</th>\n",
       "      <th>ATA</th>\n",
       "      <th>STD</th>\n",
       "      <th>ATD</th>\n",
       "      <th>Delay Code / Time</th>\n",
       "      <th>Aircraft Type</th>\n",
       "      <th>Aircraft Reg</th>\n",
       "    </tr>\n",
       "  </thead>\n",
       "  <tbody>\n",
       "    <tr>\n",
       "      <th>0</th>\n",
       "      <td>01/01/2021</td>\n",
       "      <td>0</td>\n",
       "      <td>1</td>\n",
       "      <td>WF534</td>\n",
       "      <td>WF672</td>\n",
       "      <td>BGO</td>\n",
       "      <td>TRD</td>\n",
       "      <td>NaN</td>\n",
       "      <td>NaN</td>\n",
       "      <td>10:20</td>\n",
       "      <td>10:18</td>\n",
       "      <td>NaN</td>\n",
       "      <td>DH4</td>\n",
       "      <td>LNWDH</td>\n",
       "    </tr>\n",
       "    <tr>\n",
       "      <th>1</th>\n",
       "      <td>01/01/2021</td>\n",
       "      <td>1</td>\n",
       "      <td>0</td>\n",
       "      <td>WF586</td>\n",
       "      <td>NaN</td>\n",
       "      <td>KRS</td>\n",
       "      <td>BGO</td>\n",
       "      <td>10:25</td>\n",
       "      <td>10:13</td>\n",
       "      <td>NaN</td>\n",
       "      <td>NaN</td>\n",
       "      <td>NaN</td>\n",
       "      <td>DH4</td>\n",
       "      <td>LNWDG</td>\n",
       "    </tr>\n",
       "    <tr>\n",
       "      <th>2</th>\n",
       "      <td>01/01/2021</td>\n",
       "      <td>0</td>\n",
       "      <td>1</td>\n",
       "      <td>WF586</td>\n",
       "      <td>WF533</td>\n",
       "      <td>BGO</td>\n",
       "      <td>SVG</td>\n",
       "      <td>NaN</td>\n",
       "      <td>NaN</td>\n",
       "      <td>10:55</td>\n",
       "      <td>10:59</td>\n",
       "      <td>TD/00:04</td>\n",
       "      <td>DH4</td>\n",
       "      <td>LNWDG</td>\n",
       "    </tr>\n",
       "    <tr>\n",
       "      <th>3</th>\n",
       "      <td>01/01/2021</td>\n",
       "      <td>0</td>\n",
       "      <td>1</td>\n",
       "      <td>WF9160</td>\n",
       "      <td>WF568</td>\n",
       "      <td>BGO</td>\n",
       "      <td>KSU</td>\n",
       "      <td>NaN</td>\n",
       "      <td>NaN</td>\n",
       "      <td>11:00</td>\n",
       "      <td>10:57</td>\n",
       "      <td>NaN</td>\n",
       "      <td>DH4</td>\n",
       "      <td>LNWDJ</td>\n",
       "    </tr>\n",
       "    <tr>\n",
       "      <th>4</th>\n",
       "      <td>01/01/2021</td>\n",
       "      <td>0</td>\n",
       "      <td>1</td>\n",
       "      <td>WF623</td>\n",
       "      <td>WF614</td>\n",
       "      <td>BGO</td>\n",
       "      <td>BOO</td>\n",
       "      <td>NaN</td>\n",
       "      <td>NaN</td>\n",
       "      <td>12:55</td>\n",
       "      <td>12:55</td>\n",
       "      <td>NaN</td>\n",
       "      <td>290</td>\n",
       "      <td>LNWEB</td>\n",
       "    </tr>\n",
       "  </tbody>\n",
       "</table>\n",
       "</div>"
      ],
      "text/plain": [
       "         Date  Arr  Dep Flight In Flight Out Origin Destination    STA    ATA  \\\n",
       "0  01/01/2021    0    1     WF534      WF672    BGO         TRD    NaN    NaN   \n",
       "1  01/01/2021    1    0     WF586        NaN    KRS         BGO  10:25  10:13   \n",
       "2  01/01/2021    0    1     WF586      WF533    BGO         SVG    NaN    NaN   \n",
       "3  01/01/2021    0    1    WF9160      WF568    BGO         KSU    NaN    NaN   \n",
       "4  01/01/2021    0    1     WF623      WF614    BGO         BOO    NaN    NaN   \n",
       "\n",
       "     STD    ATD Delay Code / Time Aircraft Type Aircraft Reg  \n",
       "0  10:20  10:18               NaN           DH4        LNWDH  \n",
       "1    NaN    NaN               NaN           DH4        LNWDG  \n",
       "2  10:55  10:59          TD/00:04           DH4        LNWDG  \n",
       "3  11:00  10:57               NaN           DH4        LNWDJ  \n",
       "4  12:55  12:55               NaN           290        LNWEB  "
      ]
     },
     "execution_count": 20,
     "metadata": {},
     "output_type": "execute_result"
    }
   ],
   "source": [
    "df.head()"
   ]
  },
  {
   "cell_type": "code",
   "execution_count": 21,
   "metadata": {},
   "outputs": [],
   "source": [
    "dep_only_df = df[df['Dep'] == 1]\n",
    "# Dropping columns that are not needed.\n",
    "columns_to_drop = ['Arr', 'Flight In', 'STA', 'ATA',]\n",
    "cleaned_df = dep_only_df.drop(columns=columns_to_drop)"
   ]
  },
  {
   "cell_type": "code",
   "execution_count": 22,
   "metadata": {},
   "outputs": [
    {
     "data": {
      "text/html": [
       "<div>\n",
       "<style scoped>\n",
       "    .dataframe tbody tr th:only-of-type {\n",
       "        vertical-align: middle;\n",
       "    }\n",
       "\n",
       "    .dataframe tbody tr th {\n",
       "        vertical-align: top;\n",
       "    }\n",
       "\n",
       "    .dataframe thead th {\n",
       "        text-align: right;\n",
       "    }\n",
       "</style>\n",
       "<table border=\"1\" class=\"dataframe\">\n",
       "  <thead>\n",
       "    <tr style=\"text-align: right;\">\n",
       "      <th></th>\n",
       "      <th>Date</th>\n",
       "      <th>Dep</th>\n",
       "      <th>Flight Out</th>\n",
       "      <th>Origin</th>\n",
       "      <th>Destination</th>\n",
       "      <th>STD</th>\n",
       "      <th>ATD</th>\n",
       "      <th>Delay Code / Time</th>\n",
       "      <th>Aircraft Type</th>\n",
       "      <th>Aircraft Reg</th>\n",
       "    </tr>\n",
       "  </thead>\n",
       "  <tbody>\n",
       "    <tr>\n",
       "      <th>0</th>\n",
       "      <td>01/01/2021</td>\n",
       "      <td>1</td>\n",
       "      <td>WF672</td>\n",
       "      <td>BGO</td>\n",
       "      <td>TRD</td>\n",
       "      <td>10:20</td>\n",
       "      <td>10:18</td>\n",
       "      <td>NaN</td>\n",
       "      <td>DH4</td>\n",
       "      <td>LNWDH</td>\n",
       "    </tr>\n",
       "    <tr>\n",
       "      <th>2</th>\n",
       "      <td>01/01/2021</td>\n",
       "      <td>1</td>\n",
       "      <td>WF533</td>\n",
       "      <td>BGO</td>\n",
       "      <td>SVG</td>\n",
       "      <td>10:55</td>\n",
       "      <td>10:59</td>\n",
       "      <td>TD/00:04</td>\n",
       "      <td>DH4</td>\n",
       "      <td>LNWDG</td>\n",
       "    </tr>\n",
       "    <tr>\n",
       "      <th>3</th>\n",
       "      <td>01/01/2021</td>\n",
       "      <td>1</td>\n",
       "      <td>WF568</td>\n",
       "      <td>BGO</td>\n",
       "      <td>KSU</td>\n",
       "      <td>11:00</td>\n",
       "      <td>10:57</td>\n",
       "      <td>NaN</td>\n",
       "      <td>DH4</td>\n",
       "      <td>LNWDJ</td>\n",
       "    </tr>\n",
       "    <tr>\n",
       "      <th>4</th>\n",
       "      <td>01/01/2021</td>\n",
       "      <td>1</td>\n",
       "      <td>WF614</td>\n",
       "      <td>BGO</td>\n",
       "      <td>BOO</td>\n",
       "      <td>12:55</td>\n",
       "      <td>12:55</td>\n",
       "      <td>NaN</td>\n",
       "      <td>290</td>\n",
       "      <td>LNWEB</td>\n",
       "    </tr>\n",
       "    <tr>\n",
       "      <th>6</th>\n",
       "      <td>01/01/2021</td>\n",
       "      <td>1</td>\n",
       "      <td>WF106</td>\n",
       "      <td>BGO</td>\n",
       "      <td>FRO</td>\n",
       "      <td>13:25</td>\n",
       "      <td>13:30</td>\n",
       "      <td>RA/00:05</td>\n",
       "      <td>DH3</td>\n",
       "      <td>LNWFS</td>\n",
       "    </tr>\n",
       "  </tbody>\n",
       "</table>\n",
       "</div>"
      ],
      "text/plain": [
       "         Date  Dep Flight Out Origin Destination    STD    ATD  \\\n",
       "0  01/01/2021    1      WF672    BGO         TRD  10:20  10:18   \n",
       "2  01/01/2021    1      WF533    BGO         SVG  10:55  10:59   \n",
       "3  01/01/2021    1      WF568    BGO         KSU  11:00  10:57   \n",
       "4  01/01/2021    1      WF614    BGO         BOO  12:55  12:55   \n",
       "6  01/01/2021    1      WF106    BGO         FRO  13:25  13:30   \n",
       "\n",
       "  Delay Code / Time Aircraft Type Aircraft Reg  \n",
       "0               NaN           DH4        LNWDH  \n",
       "2          TD/00:04           DH4        LNWDG  \n",
       "3               NaN           DH4        LNWDJ  \n",
       "4               NaN           290        LNWEB  \n",
       "6          RA/00:05           DH3        LNWFS  "
      ]
     },
     "execution_count": 22,
     "metadata": {},
     "output_type": "execute_result"
    }
   ],
   "source": [
    "cleaned_df.head()"
   ]
  },
  {
   "cell_type": "code",
   "execution_count": 23,
   "metadata": {},
   "outputs": [
    {
     "name": "stdout",
     "output_type": "stream",
     "text": [
      "Date             0\n",
      "Dep              0\n",
      "Flight Out       0\n",
      "Destination      0\n",
      "STD              0\n",
      "ATD              0\n",
      "Aircraft Type    0\n",
      "Aircraft Reg     0\n",
      "DayOfWeek        0\n",
      "Month            0\n",
      "STD_Minutes      0\n",
      "ATD_Minutes      0\n",
      "dtype: int64\n"
     ]
    }
   ],
   "source": [
    "cleaned_df['Date'] = pd.to_datetime(cleaned_df['Date'], format='%d/%m/%Y')\n",
    "cleaned_df['STD'] = pd.to_datetime(cleaned_df['STD'], format='%H:%M').dt.time\n",
    "cleaned_df['ATD'] = pd.to_datetime(cleaned_df['ATD'], format='%H:%M').dt.time\n",
    "cleaned_df['DayOfWeek'] = cleaned_df['Date'].dt.dayofweek\n",
    "cleaned_df['Month'] = cleaned_df['Date'].dt.month\n",
    "cleaned_df['STD_Minutes'] = cleaned_df['STD'].apply(lambda x: x.hour * 60 + x.minute)\n",
    "cleaned_df['ATD_Minutes'] = cleaned_df['ATD'].apply(lambda x: x.hour * 60 + x.minute)\n",
    "cleaned_df = cleaned_df.drop('Origin', axis=1)\n",
    "cleaned_df = cleaned_df.drop('Delay Code / Time', axis=1)\n",
    "cleaned_df['Flight Out'] = cleaned_df['Flight Out'].str.replace('WF','')\n",
    "cleaned_df['Aircraft Type'] = cleaned_df['Aircraft Type'].str.replace('DH','')\n",
    "cleaned_df['Aircraft Type'] = cleaned_df['Aircraft Type'].str.replace('AT','')\n",
    "cleaned_df = cleaned_df.dropna()\n",
    "# Verify the operation by checking for NaN values again\n",
    "print(cleaned_df.isna().sum())"
   ]
  },
  {
   "cell_type": "code",
   "execution_count": 24,
   "metadata": {},
   "outputs": [
    {
     "data": {
      "text/html": [
       "<div>\n",
       "<style scoped>\n",
       "    .dataframe tbody tr th:only-of-type {\n",
       "        vertical-align: middle;\n",
       "    }\n",
       "\n",
       "    .dataframe tbody tr th {\n",
       "        vertical-align: top;\n",
       "    }\n",
       "\n",
       "    .dataframe thead th {\n",
       "        text-align: right;\n",
       "    }\n",
       "</style>\n",
       "<table border=\"1\" class=\"dataframe\">\n",
       "  <thead>\n",
       "    <tr style=\"text-align: right;\">\n",
       "      <th></th>\n",
       "      <th>Date</th>\n",
       "      <th>Dep</th>\n",
       "      <th>Flight Out</th>\n",
       "      <th>Destination</th>\n",
       "      <th>STD</th>\n",
       "      <th>ATD</th>\n",
       "      <th>Aircraft Type</th>\n",
       "      <th>Aircraft Reg</th>\n",
       "      <th>DayOfWeek</th>\n",
       "      <th>Month</th>\n",
       "      <th>STD_Minutes</th>\n",
       "      <th>ATD_Minutes</th>\n",
       "    </tr>\n",
       "  </thead>\n",
       "  <tbody>\n",
       "    <tr>\n",
       "      <th>0</th>\n",
       "      <td>2021-01-01</td>\n",
       "      <td>1</td>\n",
       "      <td>672</td>\n",
       "      <td>TRD</td>\n",
       "      <td>10:20:00</td>\n",
       "      <td>10:18:00</td>\n",
       "      <td>4</td>\n",
       "      <td>LNWDH</td>\n",
       "      <td>4</td>\n",
       "      <td>1</td>\n",
       "      <td>620</td>\n",
       "      <td>618.0</td>\n",
       "    </tr>\n",
       "    <tr>\n",
       "      <th>2</th>\n",
       "      <td>2021-01-01</td>\n",
       "      <td>1</td>\n",
       "      <td>533</td>\n",
       "      <td>SVG</td>\n",
       "      <td>10:55:00</td>\n",
       "      <td>10:59:00</td>\n",
       "      <td>4</td>\n",
       "      <td>LNWDG</td>\n",
       "      <td>4</td>\n",
       "      <td>1</td>\n",
       "      <td>655</td>\n",
       "      <td>659.0</td>\n",
       "    </tr>\n",
       "    <tr>\n",
       "      <th>3</th>\n",
       "      <td>2021-01-01</td>\n",
       "      <td>1</td>\n",
       "      <td>568</td>\n",
       "      <td>KSU</td>\n",
       "      <td>11:00:00</td>\n",
       "      <td>10:57:00</td>\n",
       "      <td>4</td>\n",
       "      <td>LNWDJ</td>\n",
       "      <td>4</td>\n",
       "      <td>1</td>\n",
       "      <td>660</td>\n",
       "      <td>657.0</td>\n",
       "    </tr>\n",
       "    <tr>\n",
       "      <th>4</th>\n",
       "      <td>2021-01-01</td>\n",
       "      <td>1</td>\n",
       "      <td>614</td>\n",
       "      <td>BOO</td>\n",
       "      <td>12:55:00</td>\n",
       "      <td>12:55:00</td>\n",
       "      <td>290</td>\n",
       "      <td>LNWEB</td>\n",
       "      <td>4</td>\n",
       "      <td>1</td>\n",
       "      <td>775</td>\n",
       "      <td>775.0</td>\n",
       "    </tr>\n",
       "    <tr>\n",
       "      <th>6</th>\n",
       "      <td>2021-01-01</td>\n",
       "      <td>1</td>\n",
       "      <td>106</td>\n",
       "      <td>FRO</td>\n",
       "      <td>13:25:00</td>\n",
       "      <td>13:30:00</td>\n",
       "      <td>3</td>\n",
       "      <td>LNWFS</td>\n",
       "      <td>4</td>\n",
       "      <td>1</td>\n",
       "      <td>805</td>\n",
       "      <td>810.0</td>\n",
       "    </tr>\n",
       "  </tbody>\n",
       "</table>\n",
       "</div>"
      ],
      "text/plain": [
       "        Date  Dep Flight Out Destination       STD       ATD Aircraft Type  \\\n",
       "0 2021-01-01    1        672         TRD  10:20:00  10:18:00             4   \n",
       "2 2021-01-01    1        533         SVG  10:55:00  10:59:00             4   \n",
       "3 2021-01-01    1        568         KSU  11:00:00  10:57:00             4   \n",
       "4 2021-01-01    1        614         BOO  12:55:00  12:55:00           290   \n",
       "6 2021-01-01    1        106         FRO  13:25:00  13:30:00             3   \n",
       "\n",
       "  Aircraft Reg  DayOfWeek  Month  STD_Minutes  ATD_Minutes  \n",
       "0        LNWDH          4      1          620        618.0  \n",
       "2        LNWDG          4      1          655        659.0  \n",
       "3        LNWDJ          4      1          660        657.0  \n",
       "4        LNWEB          4      1          775        775.0  \n",
       "6        LNWFS          4      1          805        810.0  "
      ]
     },
     "execution_count": 24,
     "metadata": {},
     "output_type": "execute_result"
    }
   ],
   "source": [
    "cleaned_df.head()"
   ]
  },
  {
   "cell_type": "code",
   "execution_count": 25,
   "metadata": {},
   "outputs": [
    {
     "name": "stdout",
     "output_type": "stream",
     "text": [
      "   Destination  Encoded_Value\n",
      "0          ABZ              0\n",
      "1          ACE              1\n",
      "2          AES              2\n",
      "3          AGP              3\n",
      "4          AJA              4\n",
      "..         ...            ...\n",
      "82         TRD             82\n",
      "83         TRF             83\n",
      "84         UME             84\n",
      "85         VCE             85\n",
      "86         ZRH             86\n",
      "\n",
      "[87 rows x 2 columns]\n"
     ]
    }
   ],
   "source": [
    "# For destination\n",
    "le_destination = LabelEncoder()\n",
    "cleaned_df['Destination'] = le_destination.fit_transform(cleaned_df['Destination'])\n",
    "\n",
    "# Extracting the mapping\n",
    "destination_mapping = dict(zip(le_destination.classes_, le_destination.transform(le_destination.classes_)))\n",
    "destination_mapping_df = pd.DataFrame(list(destination_mapping.items()), columns=['Destination', 'Encoded_Value'])\n",
    "\n",
    "# For aircraft reg\n",
    "le_aircraft_reg = LabelEncoder()\n",
    "cleaned_df['Aircraft Reg'] = le_aircraft_reg.fit_transform(cleaned_df['Aircraft Reg'])\n",
    "\n",
    "# Extracting the mapping\n",
    "aircraft_reg_mapping = dict(zip(le_aircraft_reg.classes_, le_aircraft_reg.transform(le_aircraft_reg.classes_)))\n",
    "aircraft_reg_mapping_df = pd.DataFrame(list(aircraft_reg_mapping.items()), columns=['Aircraft Reg', 'Encoded_Value'])\n",
    "\n",
    "print(destination_mapping_df)"
   ]
  },
  {
   "cell_type": "code",
   "execution_count": 31,
   "metadata": {},
   "outputs": [
    {
     "data": {
      "text/plain": [
       "['airport_encoder.joblib']"
      ]
     },
     "execution_count": 31,
     "metadata": {},
     "output_type": "execute_result"
    }
   ],
   "source": [
    "from joblib import dump\n",
    "dump(le_destination, 'airport_encoder.joblib')"
   ]
  },
  {
   "cell_type": "code",
   "execution_count": 26,
   "metadata": {},
   "outputs": [
    {
     "name": "stdout",
     "output_type": "stream",
     "text": [
      "['4' '290' '3' '1' '2' '7']\n"
     ]
    }
   ],
   "source": [
    "unique_aircraft_types = cleaned_df['Aircraft Type'].unique()\n",
    "print(unique_aircraft_types)"
   ]
  },
  {
   "cell_type": "code",
   "execution_count": 27,
   "metadata": {},
   "outputs": [],
   "source": [
    "X = cleaned_df.drop(['ATD_Minutes', 'ATD','STD', 'Date','Dep','Aircraft Type',\n",
    "                    'Aircraft Reg'], axis=1)\n",
    "y = cleaned_df['ATD_Minutes']\n",
    "\n",
    "X_train, X_test, y_train, y_test = train_test_split(X, y, test_size=0.3, random_state=42)"
   ]
  },
  {
   "cell_type": "code",
   "execution_count": 28,
   "metadata": {},
   "outputs": [
    {
     "name": "stdout",
     "output_type": "stream",
     "text": [
      "Index(['Flight Out', 'Destination', 'DayOfWeek', 'Month', 'STD_Minutes'], dtype='object')\n"
     ]
    }
   ],
   "source": [
    "print(X.columns)"
   ]
  },
  {
   "cell_type": "code",
   "execution_count": 29,
   "metadata": {},
   "outputs": [
    {
     "name": "stdout",
     "output_type": "stream",
     "text": [
      "Mean Squared Error: 2629.6346606519837\n",
      "Root mean squared error: 51.27996353988548\n",
      "R2-score 0.9669699924747039\n",
      "Mean Absolute Error: 14.121987749882397\n"
     ]
    },
    {
     "name": "stderr",
     "output_type": "stream",
     "text": [
      "/Users/perry/Documents/flightetd/venv/lib/python3.9/site-packages/sklearn/metrics/_regression.py:483: FutureWarning: 'squared' is deprecated in version 1.4 and will be removed in 1.6. To calculate the root mean squared error, use the function'root_mean_squared_error'.\n",
      "  warnings.warn(\n"
     ]
    }
   ],
   "source": [
    "rf = RandomForestRegressor(n_estimators=100, random_state = 42)\n",
    "rf.fit(X_train, y_train)\n",
    "\n",
    "predictions = rf.predict(X_test)\n",
    "\n",
    "mae = mean_absolute_error(y_test, predictions)\n",
    "mse = mean_squared_error(y_test, predictions)\n",
    "rmse= mean_squared_error(y_test, predictions, squared=False)\n",
    "r2 = r2_score(y_test, predictions)\n",
    "\n",
    "print(\"Mean Squared Error:\", mse)\n",
    "print(\"Root mean squared error:\", rmse)\n",
    "print(\"R2-score\", r2)\n",
    "print(\"Mean Absolute Error:\", mae)"
   ]
  },
  {
   "cell_type": "code",
   "execution_count": 30,
   "metadata": {},
   "outputs": [],
   "source": [
    "import pickle\n",
    "\n",
    "pickle.dump(rf, open(\"model.pkl\", \"wb\"))"
   ]
  },
  {
   "cell_type": "code",
   "execution_count": 32,
   "metadata": {},
   "outputs": [],
   "source": [
    "XP = cleaned_df[['Flight Out', 'Destination', 'DayOfWeek', 'Month', 'STD_Minutes']]"
   ]
  },
  {
   "cell_type": "code",
   "execution_count": 33,
   "metadata": {},
   "outputs": [],
   "source": [
    "predictions = rf.predict(XP)"
   ]
  },
  {
   "cell_type": "code",
   "execution_count": 34,
   "metadata": {},
   "outputs": [],
   "source": [
    "cleaned_df['predicted'] = predictions"
   ]
  },
  {
   "cell_type": "code",
   "execution_count": 35,
   "metadata": {},
   "outputs": [
    {
     "name": "stdout",
     "output_type": "stream",
     "text": [
      "        Date  Dep Flight Out  Destination       STD       ATD Aircraft Type  \\\n",
      "0 2021-01-01    1        672           82  10:20:00  10:18:00             4   \n",
      "2 2021-01-01    1        533           77  10:55:00  10:59:00             4   \n",
      "3 2021-01-01    1        568           42  11:00:00  10:57:00             4   \n",
      "4 2021-01-01    1        614           13  12:55:00  12:55:00           290   \n",
      "6 2021-01-01    1        106           28  13:25:00  13:30:00             3   \n",
      "\n",
      "   Aircraft Reg  DayOfWeek  Month  STD_Minutes  ATD_Minutes   predicted  \n",
      "0             7          4      1          620        618.0  620.845365  \n",
      "2             6          4      1          655        659.0  654.447131  \n",
      "3             9          4      1          660        657.0  653.127726  \n",
      "4            18          4      1          775        775.0  773.925333  \n",
      "6            22          4      1          805        810.0  799.223833  \n"
     ]
    }
   ],
   "source": [
    "print(cleaned_df.head())"
   ]
  },
  {
   "cell_type": "code",
   "execution_count": null,
   "metadata": {},
   "outputs": [],
   "source": []
  }
 ],
 "metadata": {
  "kernelspec": {
   "display_name": "venv",
   "language": "python",
   "name": "python3"
  },
  "language_info": {
   "codemirror_mode": {
    "name": "ipython",
    "version": 3
   },
   "file_extension": ".py",
   "mimetype": "text/x-python",
   "name": "python",
   "nbconvert_exporter": "python",
   "pygments_lexer": "ipython3",
   "version": "3.9.6"
  }
 },
 "nbformat": 4,
 "nbformat_minor": 2
}
